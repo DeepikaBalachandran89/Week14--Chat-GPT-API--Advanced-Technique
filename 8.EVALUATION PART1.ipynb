{
 "cells": [
  {
   "cell_type": "code",
   "execution_count": 1,
   "id": "9466254f-26c1-444d-9460-a86c6155997e",
   "metadata": {},
   "outputs": [],
   "source": [
    "import os\n",
    "import sys\n",
    "sys.path.append('../..')\n",
    "import utils\n",
    "import google.generativeai as genai\n",
    "\n",
    "# Configure your API key (replace with your actual API key)\n",
    "genai.configure(api_key=\"\")\n",
    "\n",
    "def get_completion_from_messages(messages, model=\"gemini-1.5-flash\"):\n",
    "    \n",
    "    try:\n",
    "        # Create an instance of the GenerativeModel\n",
    "        model_instance = genai.GenerativeModel(model_name=model)\n",
    "        \n",
    "        # Generate content using the model with structured input\n",
    "        response = model_instance.generate_content(\n",
    "            contents=[{\n",
    "                \"role\": \"user\",\n",
    "                \"parts\": [{\"text\": msg[\"content\"]} for msg in messages]\n",
    "            }]\n",
    "        )\n",
    "        \n",
    "        # Extract and return the generated content\n",
    "        return response.text  # Adjust based on actual response structure\n",
    "\n",
    "    except Exception as e:\n",
    "        print(f\"An error occurred: {e}\")\n",
    "        return None"
   ]
  },
  {
   "cell_type": "code",
   "execution_count": 2,
   "id": "5632d107-8d43-4121-8580-0884df4a73f9",
   "metadata": {},
   "outputs": [
    {
     "data": {
      "text/plain": [
       "{'Computers and Laptops': ['TechPro Ultrabook',\n",
       "  'BlueWave Gaming Laptop',\n",
       "  'PowerLite Convertible',\n",
       "  'TechPro Desktop',\n",
       "  'BlueWave Chromebook'],\n",
       " 'Smartphones and Accessories': ['SmartX ProPhone',\n",
       "  'MobiTech PowerCase',\n",
       "  'SmartX MiniPhone',\n",
       "  'MobiTech Wireless Charger',\n",
       "  'SmartX EarBuds'],\n",
       " 'Televisions and Home Theater Systems': ['CineView 4K TV',\n",
       "  'SoundMax Home Theater',\n",
       "  'CineView 8K TV',\n",
       "  'SoundMax Soundbar',\n",
       "  'CineView OLED TV'],\n",
       " 'Gaming Consoles and Accessories': ['GameSphere X',\n",
       "  'ProGamer Controller',\n",
       "  'GameSphere Y',\n",
       "  'ProGamer Racing Wheel',\n",
       "  'GameSphere VR Headset'],\n",
       " 'Audio Equipment': ['AudioPhonic Noise-Canceling Headphones',\n",
       "  'WaveSound Bluetooth Speaker',\n",
       "  'AudioPhonic True Wireless Earbuds',\n",
       "  'WaveSound Soundbar',\n",
       "  'AudioPhonic Turntable'],\n",
       " 'Cameras and Camcorders': ['FotoSnap DSLR Camera',\n",
       "  'ActionCam 4K',\n",
       "  'FotoSnap Mirrorless Camera',\n",
       "  'ZoomMaster Camcorder',\n",
       "  'FotoSnap Instant Camera']}"
      ]
     },
     "execution_count": 2,
     "metadata": {},
     "output_type": "execute_result"
    }
   ],
   "source": [
    "products_and_category = utils.get_products_and_category()\n",
    "products_and_category"
   ]
  },
  {
   "cell_type": "code",
   "execution_count": 3,
   "id": "a1cb3f81-fa8f-4b81-896a-75369747b0a7",
   "metadata": {},
   "outputs": [],
   "source": [
    "def find_category_and_product_v1(user_input,products_and_category):\n",
    "\n",
    "    delimiter = \"####\"\n",
    "    system_message = f\"\"\"\n",
    "    You will be provided with customer service queries. \\\n",
    "    The customer service query will be delimited with {delimiter} characters.\n",
    "    Output a python list of json objects, where each object has the following format:\n",
    "        'category': <one of Computers and Laptops, Smartphones and Accessories, Televisions and Home Theater Systems, \\\n",
    "    Gaming Consoles and Accessories, Audio Equipment, Cameras and Camcorders>,\n",
    "    AND\n",
    "        'products': <a list of products that must be found in the allowed products below>\n",
    "\n",
    "\n",
    "    Where the categories and products must be found in the customer service query.\n",
    "    If a product is mentioned, it must be associated with the correct category in the allowed products list below.\n",
    "    If no products or categories are found, output an empty list.\n",
    "    \n",
    "\n",
    "    List out all products that are relevant to the customer service query based on how closely it relates\n",
    "    to the product name and product category.\n",
    "    Do not assume, from the name of the product, any features or attributes such as relative quality or price.\n",
    "\n",
    "    The allowed products are provided in JSON format.\n",
    "    The keys of each item represent the category.\n",
    "    The values of each item is a list of products that are within that category.\n",
    "    Allowed products: {products_and_category}\n",
    "    \n",
    "\n",
    "    \"\"\"\n",
    "    \n",
    "    few_shot_user_1 = \"\"\"I want the most expensive computer.\"\"\"\n",
    "    few_shot_assistant_1 = \"\"\" \n",
    "    [{'category': 'Computers and Laptops', \\\n",
    "'products': ['TechPro Ultrabook', 'BlueWave Gaming Laptop', 'PowerLite Convertible', 'TechPro Desktop', 'BlueWave Chromebook']}]\n",
    "    \"\"\"\n",
    "    \n",
    "    messages =  [  \n",
    "    {'role':'system', 'content': system_message},    \n",
    "    {'role':'user', 'content': f\"{delimiter}{few_shot_user_1}{delimiter}\"},  \n",
    "    {'role':'assistant', 'content': few_shot_assistant_1 },\n",
    "    {'role':'user', 'content': f\"{delimiter}{user_input}{delimiter}\"},  \n",
    "    ] \n",
    "    return get_completion_from_messages(messages)\n"
   ]
  },
  {
   "cell_type": "code",
   "execution_count": 4,
   "id": "d023c0a9-13ef-4f4e-b436-e96ff29c551a",
   "metadata": {},
   "outputs": [
    {
     "name": "stdout",
     "output_type": "stream",
     "text": [
      "```json\n",
      "[{'category': 'Televisions and Home Theater Systems', 'products': ['CineView 4K TV', 'SoundMax Home Theater', 'CineView 8K TV', 'SoundMax Soundbar', 'CineView OLED TV']}]\n",
      "```\n"
     ]
    }
   ],
   "source": [
    "customer_msg_0 = f\"\"\"Which TV can I buy if I'm on a budget?\"\"\"\n",
    "\n",
    "products_by_category_0 = find_category_and_product_v1(customer_msg_0,\n",
    "                                                      products_and_category)\n",
    "print(products_by_category_0)"
   ]
  },
  {
   "cell_type": "code",
   "execution_count": 5,
   "id": "f7fd4033-6627-4c1e-ad42-52d89a4d732e",
   "metadata": {},
   "outputs": [
    {
     "name": "stdout",
     "output_type": "stream",
     "text": [
      "```json\n",
      "[{'category': 'Smartphones and Accessories', 'products': ['MobiTech PowerCase', 'MobiTech Wireless Charger']}]\n",
      "```\n"
     ]
    }
   ],
   "source": [
    "customer_msg_1 = f\"\"\"I need a charger for my smartphone\"\"\"\n",
    "\n",
    "products_by_category_1 = find_category_and_product_v1(customer_msg_1,\n",
    "                                                      products_and_category)\n",
    "print(products_by_category_1)"
   ]
  },
  {
   "cell_type": "code",
   "execution_count": 6,
   "id": "6f91f4e6-fc8a-4989-bfb3-d2af12d1977e",
   "metadata": {},
   "outputs": [
    {
     "data": {
      "text/plain": [
       "\"[{'category': 'Computers and Laptops', 'products': ['TechPro Ultrabook', 'BlueWave Gaming Laptop', 'PowerLite Convertible', 'TechPro Desktop', 'BlueWave Chromebook']}]\\n\""
      ]
     },
     "execution_count": 6,
     "metadata": {},
     "output_type": "execute_result"
    }
   ],
   "source": [
    "customer_msg_2 = f\"\"\"\n",
    "What computers do you have?\"\"\"\n",
    "\n",
    "products_by_category_2 = find_category_and_product_v1(customer_msg_2,\n",
    "                                                      products_and_category)\n",
    "products_by_category_2"
   ]
  },
  {
   "cell_type": "code",
   "execution_count": 7,
   "id": "30af8c62-67a9-4607-99e8-5e26cf0b9b36",
   "metadata": {},
   "outputs": [
    {
     "name": "stdout",
     "output_type": "stream",
     "text": [
      "```json\n",
      "[{'category': 'Smartphones and Accessories', 'products': ['SmartX ProPhone']}, {'category': 'Cameras and Camcorders', 'products': ['FotoSnap DSLR Camera']}, {'category': 'Televisions and Home Theater Systems', 'products': ['CineView 4K TV', 'CineView 8K TV', 'CineView OLED TV']}]\n",
      "```\n"
     ]
    }
   ],
   "source": [
    "customer_msg_3 = f\"\"\"\n",
    "tell me about the smartx pro phone and the fotosnap camera, the dslr one.\n",
    "Also, what TVs do you have?\"\"\"\n",
    "\n",
    "products_by_category_3 = find_category_and_product_v1(customer_msg_3,\n",
    "                                                      products_and_category)\n",
    "print(products_by_category_3)"
   ]
  },
  {
   "cell_type": "code",
   "execution_count": 8,
   "id": "fccff161-73d4-4fb4-9a23-80e5d85e6a33",
   "metadata": {},
   "outputs": [
    {
     "name": "stdout",
     "output_type": "stream",
     "text": [
      "[{'category': 'Televisions and Home Theater Systems', 'products': ['CineView 8K TV']}, {'category': 'Gaming Consoles and Accessories', 'products': ['GameSphere X']}, {'category': 'Computers and Laptops', 'products': ['BlueWave Chromebook', 'TechPro Desktop', 'PowerLite Convertible', 'BlueWave Gaming Laptop', 'TechPro Ultrabook']}]\n",
      "\n"
     ]
    }
   ],
   "source": [
    "customer_msg_4 = f\"\"\"\n",
    "tell me about the CineView TV, the 8K one, Gamesphere console, the X one.\n",
    "I'm on a budget, what computers do you have?\"\"\"\n",
    "\n",
    "products_by_category_4 = find_category_and_product_v1(customer_msg_4,\n",
    "                                                      products_and_category)\n",
    "print(products_by_category_4)"
   ]
  },
  {
   "cell_type": "code",
   "execution_count": null,
   "id": "c761d820-2ef0-45c3-9760-82db920c45f0",
   "metadata": {},
   "outputs": [],
   "source": []
  },
  {
   "cell_type": "code",
   "execution_count": 9,
   "id": "1d24ddc4-1bfb-48a3-bb00-8365709da0d3",
   "metadata": {},
   "outputs": [],
   "source": [
    "def find_category_and_product_v2(user_input,products_and_category):\n",
    "    \"\"\"\n",
    "    Added: Do not output any additional text that is not in JSON format.\n",
    "    Added a second example (for few-shot prompting) where user asks for \n",
    "    the cheapest computer. In both few-shot examples, the shown response \n",
    "    is the full list of products in JSON only.\n",
    "    \"\"\"\n",
    "    delimiter = \"####\"\n",
    "    system_message = f\"\"\"\n",
    "    You will be provided with customer service queries. \\\n",
    "    The customer service query will be delimited with {delimiter} characters.\n",
    "    Output a python list of json objects, where each object has the following format:\n",
    "        'category': <one of Computers and Laptops, Smartphones and Accessories, Televisions and Home Theater Systems, \\\n",
    "    Gaming Consoles and Accessories, Audio Equipment, Cameras and Camcorders>,\n",
    "    AND\n",
    "        'products': <a list of products that must be found in the allowed products below>\n",
    "    Do not output any additional text that is not in JSON format.\n",
    "    Do not write any explanatory text after outputting the requested JSON.\n",
    "\n",
    "\n",
    "    Where the categories and products must be found in the customer service query.\n",
    "    If a product is mentioned, it must be associated with the correct category in the allowed products list below.\n",
    "    If no products or categories are found, output an empty list.\n",
    "    \n",
    "\n",
    "    List out all products that are relevant to the customer service query based on how closely it relates\n",
    "    to the product name and product category.\n",
    "    Do not assume, from the name of the product, any features or attributes such as relative quality or price.\n",
    "\n",
    "    The allowed products are provided in JSON format.\n",
    "    The keys of each item represent the category.\n",
    "    The values of each item is a list of products that are within that category.\n",
    "    Allowed products: {products_and_category}\n",
    "    \n",
    "\n",
    "    \"\"\"\n",
    "    \n",
    "    few_shot_user_1 = \"\"\"I want the most expensive computer. What do you recommend?\"\"\"\n",
    "    few_shot_assistant_1 = \"\"\" \n",
    "    [{'category': 'Computers and Laptops', \\\n",
    "'products': ['TechPro Ultrabook', 'BlueWave Gaming Laptop', 'PowerLite Convertible', 'TechPro Desktop', 'BlueWave Chromebook']}]\n",
    "    \"\"\"\n",
    "    \n",
    "    few_shot_user_2 = \"\"\"I want the most cheapest computer. What do you recommend?\"\"\"\n",
    "    few_shot_assistant_2 = \"\"\" \n",
    "    [{'category': 'Computers and Laptops', \\\n",
    "'products': ['TechPro Ultrabook', 'BlueWave Gaming Laptop', 'PowerLite Convertible', 'TechPro Desktop', 'BlueWave Chromebook']}]\n",
    "    \"\"\"\n",
    "    \n",
    "    messages =  [  \n",
    "    {'role':'system', 'content': system_message},    \n",
    "    {'role':'user', 'content': f\"{delimiter}{few_shot_user_1}{delimiter}\"},  \n",
    "    {'role':'assistant', 'content': few_shot_assistant_1 },\n",
    "    {'role':'user', 'content': f\"{delimiter}{few_shot_user_2}{delimiter}\"},  \n",
    "    {'role':'assistant', 'content': few_shot_assistant_2 },\n",
    "    {'role':'user', 'content': f\"{delimiter}{user_input}{delimiter}\"},  \n",
    "    ] \n",
    "    return get_completion_from_messages(messages)\n"
   ]
  },
  {
   "cell_type": "code",
   "execution_count": 10,
   "id": "edd99830-0e35-46bd-a579-7ec2d2b40d4b",
   "metadata": {},
   "outputs": [
    {
     "name": "stdout",
     "output_type": "stream",
     "text": [
      "[{'category': 'Smartphones and Accessories', 'products': ['SmartX ProPhone']}, {'category': 'Cameras and Camcorders', 'products': ['FotoSnap DSLR Camera']}, {'category': 'Televisions and Home Theater Systems', 'products': ['CineView 4K TV', 'SoundMax Home Theater', 'CineView 8K TV', 'SoundMax Soundbar', 'CineView OLED TV']}]\n",
      "\n"
     ]
    }
   ],
   "source": [
    "customer_msg_3 = f\"\"\"\n",
    "tell me about the smartx pro phone and the fotosnap camera, the dslr one.\n",
    "Also, what TVs do you have?\"\"\"\n",
    "\n",
    "products_by_category_3 = find_category_and_product_v2(customer_msg_3,\n",
    "                                                      products_and_category)\n",
    "print(products_by_category_3)"
   ]
  },
  {
   "cell_type": "code",
   "execution_count": 11,
   "id": "5859919f-dc23-42e2-9877-53cd0ae73281",
   "metadata": {},
   "outputs": [
    {
     "name": "stdout",
     "output_type": "stream",
     "text": [
      "[{'category': 'Computers and Laptops', 'products': ['TechPro Ultrabook', 'BlueWave Gaming Laptop', 'PowerLite Convertible', 'TechPro Desktop', 'BlueWave Chromebook']}]\n",
      "\n"
     ]
    }
   ],
   "source": [
    "customer_msg_31 = f\"\"\"\n",
    "want the most cheapest computer?\"\"\"\n",
    "\n",
    "products_by_category_31 = find_category_and_product_v2(customer_msg_31,\n",
    "                                                      products_and_category)\n",
    "print(products_by_category_31)"
   ]
  },
  {
   "cell_type": "code",
   "execution_count": null,
   "id": "35f00e04-a9ba-4db4-b4b6-947a987ba853",
   "metadata": {},
   "outputs": [],
   "source": []
  },
  {
   "cell_type": "code",
   "execution_count": 12,
   "id": "33997517-a0f8-4ce9-b599-19bf71f9b234",
   "metadata": {},
   "outputs": [
    {
     "name": "stdout",
     "output_type": "stream",
     "text": [
      "[{'category': 'Televisions and Home Theater Systems', 'products': ['CineView 4K TV', 'SoundMax Home Theater', 'CineView 8K TV', 'SoundMax Soundbar', 'CineView OLED TV']}]\n",
      "\n"
     ]
    }
   ],
   "source": [
    "customer_msg_0 = f\"\"\"Which TV can I buy if I'm on a budget?\"\"\"\n",
    "\n",
    "products_by_category_0 = find_category_and_product_v2(customer_msg_0,\n",
    "                                                      products_and_category)\n",
    "print(products_by_category_0)"
   ]
  },
  {
   "cell_type": "code",
   "execution_count": 13,
   "id": "d96e7aa9-694b-4945-8708-9602d4cb8b8b",
   "metadata": {},
   "outputs": [],
   "source": [
    "msg_ideal_pairs_set = [\n",
    "    \n",
    "    # eg 0\n",
    "    {'customer_msg':\"\"\"Which TV can I buy if I'm on a budget?\"\"\",\n",
    "     'ideal_answer':{\n",
    "        'Televisions and Home Theater Systems':set(\n",
    "            ['CineView 4K TV', 'SoundMax Home Theater', 'CineView 8K TV', 'SoundMax Soundbar', 'CineView OLED TV']\n",
    "        )}\n",
    "    },\n",
    "\n",
    "    # eg 1\n",
    "    {'customer_msg':\"\"\"I need a charger for my smartphone\"\"\",\n",
    "     'ideal_answer':{\n",
    "        'Smartphones and Accessories':set(\n",
    "            ['MobiTech PowerCase', 'MobiTech Wireless Charger', 'SmartX EarBuds']\n",
    "        )}\n",
    "    },\n",
    "    # eg 2\n",
    "    {'customer_msg':f\"\"\"What computers do you have?\"\"\",\n",
    "     'ideal_answer':{\n",
    "           'Computers and Laptops':set(\n",
    "               ['TechPro Ultrabook', 'BlueWave Gaming Laptop', 'PowerLite Convertible', 'TechPro Desktop', 'BlueWave Chromebook'\n",
    "               ])\n",
    "                }\n",
    "    },\n",
    "\n",
    "    # eg 3\n",
    "    {'customer_msg':f\"\"\"tell me about the smartx pro phone and \\\n",
    "    the fotosnap camera, the dslr one.\\\n",
    "    Also, what TVs do you have?\"\"\",\n",
    "     'ideal_answer':{\n",
    "        'Smartphones and Accessories':set(\n",
    "            ['SmartX ProPhone']),\n",
    "        'Cameras and Camcorders':set(\n",
    "            ['FotoSnap DSLR Camera']),\n",
    "        'Televisions and Home Theater Systems':set(\n",
    "            ['CineView 4K TV', 'SoundMax Home Theater','CineView 8K TV', 'SoundMax Soundbar', 'CineView OLED TV'])\n",
    "        }\n",
    "    }, \n",
    "    \n",
    "    # eg 4\n",
    "    {'customer_msg':\"\"\"tell me about the CineView TV, the 8K one, Gamesphere console, the X one.\n",
    "I'm on a budget, what computers do you have?\"\"\",\n",
    "     'ideal_answer':{\n",
    "        'Televisions and Home Theater Systems':set(\n",
    "            ['CineView 8K TV']),\n",
    "        'Gaming Consoles and Accessories':set(\n",
    "            ['GameSphere X']),\n",
    "        'Computers and Laptops':set(\n",
    "            ['TechPro Ultrabook', 'BlueWave Gaming Laptop', 'PowerLite Convertible', 'TechPro Desktop', 'BlueWave Chromebook'])\n",
    "        }\n",
    "    },\n",
    "    \n",
    "    # eg 5\n",
    "    {'customer_msg':f\"\"\"What smartphones do you have?\"\"\",\n",
    "     'ideal_answer':{\n",
    "           'Smartphones and Accessories':set(\n",
    "               ['SmartX ProPhone', 'MobiTech PowerCase', 'SmartX MiniPhone', 'MobiTech Wireless Charger', 'SmartX EarBuds'\n",
    "               ])\n",
    "                    }\n",
    "    },\n",
    "    # eg 6\n",
    "    {'customer_msg':f\"\"\"I'm on a budget.  Can you recommend some smartphones to me?\"\"\",\n",
    "     'ideal_answer':{\n",
    "        'Smartphones and Accessories':set(\n",
    "            ['SmartX EarBuds', 'SmartX MiniPhone', 'MobiTech PowerCase', 'SmartX ProPhone', 'MobiTech Wireless Charger']\n",
    "        )}\n",
    "    },\n",
    "\n",
    "    # eg 7 # this will output a subset of the ideal answer\n",
    "    {'customer_msg':f\"\"\"What Gaming consoles would be good for my friend who is into racing games?\"\"\",\n",
    "     'ideal_answer':{\n",
    "        'Gaming Consoles and Accessories':set([\n",
    "            'GameSphere X',\n",
    "            'ProGamer Controller',\n",
    "            'GameSphere Y',\n",
    "            'ProGamer Racing Wheel',\n",
    "            'GameSphere VR Headset'\n",
    "     ])}\n",
    "    },\n",
    "    # eg 8\n",
    "    {'customer_msg':f\"\"\"What could be a good present for my videographer friend?\"\"\",\n",
    "     'ideal_answer': {\n",
    "        'Cameras and Camcorders':set([\n",
    "        'FotoSnap DSLR Camera', 'ActionCam 4K', 'FotoSnap Mirrorless Camera', 'ZoomMaster Camcorder', 'FotoSnap Instant Camera'\n",
    "        ])}\n",
    "    },\n",
    "    \n",
    "    # eg 9\n",
    "    {'customer_msg':f\"\"\"I would like a hot tub time machine.\"\"\",\n",
    "     'ideal_answer': []\n",
    "    }\n",
    "    \n",
    "]\n"
   ]
  },
  {
   "cell_type": "code",
   "execution_count": null,
   "id": "26151006-2486-441f-92dd-4fc3d005cec1",
   "metadata": {},
   "outputs": [],
   "source": []
  },
  {
   "cell_type": "markdown",
   "id": "7e3fc479-372d-4d7d-8955-bd4735366371",
   "metadata": {},
   "source": [
    "######## CODE EXPLANATION\n",
    "here AI generated response \n",
    "response = \"[{'category': 'Computers and Laptops', 'products': ['TechPro Ultrabook', 'BlueWave Gaming Laptop']}, {'category': 'Gaming Consoles', 'products': ['GameSphere X']}]\"\n",
    "Since this string uses single quotes instead of double quotes (which are required for valid JSON) we need to replace single quotes with double quotes:\n",
    "\n",
    "Next,\n",
    "json_like_str = response.replace(\"'\", '\"')\n",
    "\n",
    "Next,\n",
    "Now we can parse this modified string into a Python data structure:\n",
    "\n",
    "l_of_d = json.loads(json_like_str)\n",
    "\n",
    "Resulting Parsed Output\n",
    "After parsing, l_of_d will contain:\n",
    "\n",
    "l_of_d = [\n",
    "    {'category': 'Computers and Laptops', 'products': ['TechPro Ultrabook', 'BlueWave Gaming Laptop']},\n",
    "    {'category': 'Gaming Consoles', 'products': ['GameSphere X']}\n",
    "]\n",
    "\n",
    "Next,\n",
    "Now that we have our parsed output in l_of_d, we can use it for evaluation against an ideal output:\r",
    "ideal = {\r\n",
    "    'Computers and Laptops': ['TechPro Ultrabook', 'BlueWave Gaming Laptop', 'PowerLite Convertible'],\r\n",
    "    'Gaming Consoles': ['GameSphere X']\r",
    "Next,\n",
    "}\r\n",
    "\r\n",
    "correctThis line initializes a variable named correct to 0. This variable will be used to count how many categories in the parsed response (l_of_d) match those in the ideal output.\n",
    "\n",
    "Next,\n",
    "cat = d.get('category')  # 4. Checking for valid categories and products.\r\n",
    "prod_l = d.get('products')cat: This variable retrieves the value associated with the key 'category' from the dictionary d. It represents the name of the category (e.g., \"Computers and Laptops\").\r\n",
    "prod_l: This variable retrieves the value associated with the key 'products', which is expected to be a list of products belonging to that category (e.g., ['TechPro Ultrabook', 'BlueWave Gaming Laptop']).\n",
    "Next,\n",
    "prod_set = set(prod_l)\n",
    "\n",
    "converts the list of products (prod_l) into a set (prod_set).\r\n",
    "Using a set allows for easier comparison operations, such as checking for equality, subsets, or supersets.\n",
    "\n",
    "\n",
    " = 0\r\n",
    "n\n"
   ]
  },
  {
   "cell_type": "code",
   "execution_count": 30,
   "id": "b73a416a-6fed-46d0-a524-768c2a937599",
   "metadata": {},
   "outputs": [],
   "source": [
    "import json\n",
    "def eval_response_with_ideal(response,\n",
    "                              ideal,\n",
    "                              debug=False):\n",
    "    \n",
    "    if debug:\n",
    "        print(\"response\")\n",
    "        print(response)                          \n",
    "    \n",
    "    # json.loads() expects double quotes, not single quotes                  \n",
    "\n",
    "    json_like_str = response.replace(\"'\",'\"')\n",
    "    \n",
    "    # parse into a list of dictionaries\n",
    "    l_of_d = json.loads(json_like_str)#parsed output refers to the result obtained after converting a JSON-like string  into a usable data structure in Python, such as a list or dictionary.\n",
    "    \n",
    "    # special case when response is empty list\n",
    "    if l_of_d == [] and ideal == []:\n",
    "        return 1\n",
    "    \n",
    "    # otherwise, response is empty \n",
    "    # or ideal should be empty, there's a mismatch\n",
    "    elif l_of_d == [] or ideal == []:\n",
    "        return 0\n",
    "    \n",
    "    correct = 0                                                                  #1.Initializing a counter for correct matches.                                                                \n",
    "    if debug:                                                                    #2.Printing debug information if enabled.\n",
    "        print(\"l_of_d is\")\n",
    "        print(l_of_d)\n",
    "    for d in l_of_d:                                                              #3.Iterating through each item in the parsed response.\n",
    "\n",
    "        cat = d.get('category')                                                   #4.Checking for valid categories and products.\n",
    "\n",
    "        prod_l = d.get('products')\n",
    "        if cat and prod_l:\n",
    "            # convert list to set for comparison\n",
    "            prod_set = set(prod_l)\n",
    "            # get ideal set of products\n",
    "            ideal_cat = ideal.get(cat)\n",
    "            if ideal_cat:\n",
    "                prod_set_ideal = set(ideal.get(cat))\n",
    "            else:\n",
    "                if debug:\n",
    "                    print(f\"did not find category {cat} in ideal\")\n",
    "                    print(f\"ideal: {ideal}\")\n",
    "                continue\n",
    "                \n",
    "            if debug:                                                              #5.Comparing sets of products from both actual and ideal outputs.\n",
    "\n",
    "                print(\"prod_set\\n\",prod_set)\n",
    "                print()\n",
    "                print(\"prod_set_ideal\\n\",prod_set_ideal)\n",
    "\n",
    "            if prod_set == prod_set_ideal:\n",
    "                if debug:\n",
    "                    print(\"correct\")\n",
    "                correct +=1\n",
    "            else:\n",
    "                print(\"incorrect\")\n",
    "                print(f\"prod_set: {prod_set}\")\n",
    "                print(f\"prod_set_ideal: {prod_set_ideal}\")\n",
    "                if prod_set <= prod_set_ideal:\n",
    "                    print(\"response is a subset of the ideal answer\")\n",
    "                elif prod_set >= prod_set_ideal:\n",
    "                    print(\"response is a superset of the ideal answer\")\n",
    "\n",
    "    # count correct over total number of items in list\n",
    "    pc_correct = correct / len(l_of_d)                                         #Calculating and returning an accuracy percentage based on matches.\n",
    "        \n",
    "    return pc_correct"
   ]
  },
  {
   "cell_type": "code",
   "execution_count": 31,
   "id": "deb1fc0c-6a0a-436c-8dac-e8ea4b3f1065",
   "metadata": {},
   "outputs": [
    {
     "name": "stdout",
     "output_type": "stream",
     "text": [
      "Customer message: What Gaming consoles would be good for my friend who is into racing games?\n",
      "Ideal answer: {'Gaming Consoles and Accessories': {'GameSphere X', 'GameSphere Y', 'ProGamer Racing Wheel', 'ProGamer Controller', 'GameSphere VR Headset'}}\n"
     ]
    }
   ],
   "source": [
    "print(f'Customer message: {msg_ideal_pairs_set[7][\"customer_msg\"]}')\n",
    "print(f'Ideal answer: {msg_ideal_pairs_set[7][\"ideal_answer\"]}')\n"
   ]
  },
  {
   "cell_type": "code",
   "execution_count": 32,
   "id": "c2a1ccfb-3128-4df8-8586-346f67dce2ba",
   "metadata": {},
   "outputs": [
    {
     "name": "stdout",
     "output_type": "stream",
     "text": [
      "Response: [{'category': 'Gaming Consoles and Accessories', 'products': ['GameSphere X', 'GameSphere Y', 'ProGamer Racing Wheel']}]\n",
      "\n",
      "incorrect\n",
      "prod_set: {'GameSphere Y', 'ProGamer Racing Wheel', 'GameSphere X'}\n",
      "prod_set_ideal: {'GameSphere Y', 'ProGamer Racing Wheel', 'ProGamer Controller', 'GameSphere X', 'GameSphere VR Headset'}\n",
      "response is a subset of the ideal answer\n"
     ]
    },
    {
     "data": {
      "text/plain": [
       "0.0"
      ]
     },
     "execution_count": 32,
     "metadata": {},
     "output_type": "execute_result"
    }
   ],
   "source": [
    "response = find_category_and_product_v2(msg_ideal_pairs_set[7][\"customer_msg\"],\n",
    "                                         products_and_category)\n",
    "print(f'Response: {response}')\n",
    "\n",
    "eval_response_with_ideal(response,\n",
    "                              msg_ideal_pairs_set[7][\"ideal_answer\"])                          #perfect match 1.0"
   ]
  },
  {
   "cell_type": "code",
   "execution_count": 33,
   "id": "68e27c2c-3bd1-4429-bd46-22801c711d9c",
   "metadata": {},
   "outputs": [
    {
     "name": "stdout",
     "output_type": "stream",
     "text": [
      "Response: []\n",
      "\n"
     ]
    },
    {
     "data": {
      "text/plain": [
       "1"
      ]
     },
     "execution_count": 33,
     "metadata": {},
     "output_type": "execute_result"
    }
   ],
   "source": [
    "response = find_category_and_product_v2(msg_ideal_pairs_set[9][\"customer_msg\"],\n",
    "                                         products_and_category)\n",
    "print(f'Response: {response}')\n",
    "\n",
    "eval_response_with_ideal(response,\n",
    "                              msg_ideal_pairs_set[9][\"ideal_answer\"])                      #question is not suitable so 1"
   ]
  },
  {
   "cell_type": "code",
   "execution_count": 34,
   "id": "6c7776b4-ab8a-447c-b7a3-fdd122feef73",
   "metadata": {},
   "outputs": [
    {
     "name": "stdout",
     "output_type": "stream",
     "text": [
      "Response: [{'category': 'Smartphones and Accessories', 'products': ['SmartX ProPhone', 'SmartX MiniPhone']}]\n",
      "\n",
      "incorrect\n",
      "prod_set: {'SmartX MiniPhone', 'SmartX ProPhone'}\n",
      "prod_set_ideal: {'MobiTech Wireless Charger', 'SmartX EarBuds', 'SmartX ProPhone', 'SmartX MiniPhone', 'MobiTech PowerCase'}\n",
      "response is a subset of the ideal answer\n"
     ]
    },
    {
     "data": {
      "text/plain": [
       "0.0"
      ]
     },
     "execution_count": 34,
     "metadata": {},
     "output_type": "execute_result"
    }
   ],
   "source": [
    "response = find_category_and_product_v2(msg_ideal_pairs_set[6][\"customer_msg\"],\n",
    "                                         products_and_category)\n",
    "print(f'Response: {response}')\n",
    "\n",
    "eval_response_with_ideal(response,\n",
    "                              msg_ideal_pairs_set[6][\"ideal_answer\"])"
   ]
  },
  {
   "cell_type": "code",
   "execution_count": 35,
   "id": "d8802b07-f95c-4d93-bff3-cf8cc66a5fb2",
   "metadata": {},
   "outputs": [
    {
     "name": "stdout",
     "output_type": "stream",
     "text": [
      "Response: [{'category': 'Televisions and Home Theater Systems', 'products': ['CineView 4K TV', 'SoundMax Home Theater', 'CineView 8K TV', 'SoundMax Soundbar', 'CineView OLED TV']}]\n",
      "\n"
     ]
    },
    {
     "data": {
      "text/plain": [
       "1.0"
      ]
     },
     "execution_count": 35,
     "metadata": {},
     "output_type": "execute_result"
    }
   ],
   "source": [
    "response = find_category_and_product_v2(msg_ideal_pairs_set[0][\"customer_msg\"],\n",
    "                                         products_and_category)\n",
    "print(f'Response: {response}')\n",
    "\n",
    "eval_response_with_ideal(response,\n",
    "                              msg_ideal_pairs_set[0][\"ideal_answer\"])"
   ]
  },
  {
   "cell_type": "code",
   "execution_count": null,
   "id": "0fd74d6a-1903-4ae2-98b4-b4feeca895a4",
   "metadata": {},
   "outputs": [],
   "source": []
  },
  {
   "cell_type": "code",
   "execution_count": 36,
   "id": "100cf7bb-43cb-46bf-80a5-6df681164515",
   "metadata": {},
   "outputs": [
    {
     "name": "stdout",
     "output_type": "stream",
     "text": [
      "example 0\n",
      "0: 1.0\n",
      "example 1\n",
      "incorrect\n",
      "prod_set: {'MobiTech Wireless Charger', 'MobiTech PowerCase'}\n",
      "prod_set_ideal: {'MobiTech Wireless Charger', 'SmartX EarBuds', 'MobiTech PowerCase'}\n",
      "response is a subset of the ideal answer\n",
      "1: 0.0\n",
      "example 2\n",
      "2: 1.0\n",
      "example 3\n",
      "3: 1.0\n",
      "example 4\n",
      "4: 1.0\n",
      "example 5\n",
      "incorrect\n",
      "prod_set: {'SmartX MiniPhone', 'SmartX ProPhone'}\n",
      "prod_set_ideal: {'MobiTech Wireless Charger', 'SmartX EarBuds', 'SmartX ProPhone', 'SmartX MiniPhone', 'MobiTech PowerCase'}\n",
      "response is a subset of the ideal answer\n",
      "5: 0.0\n",
      "example 6\n",
      "incorrect\n",
      "prod_set: {'SmartX MiniPhone', 'SmartX ProPhone'}\n",
      "prod_set_ideal: {'MobiTech Wireless Charger', 'SmartX EarBuds', 'SmartX ProPhone', 'SmartX MiniPhone', 'MobiTech PowerCase'}\n",
      "response is a subset of the ideal answer\n",
      "6: 0.0\n",
      "example 7\n",
      "incorrect\n",
      "prod_set: {'GameSphere Y', 'ProGamer Racing Wheel', 'GameSphere X'}\n",
      "prod_set_ideal: {'GameSphere Y', 'ProGamer Racing Wheel', 'ProGamer Controller', 'GameSphere X', 'GameSphere VR Headset'}\n",
      "response is a subset of the ideal answer\n",
      "7: 0.0\n",
      "example 8\n",
      "8: 1.0\n",
      "example 9\n",
      "9: 1\n",
      "Fraction correct out of 10: 0.6\n"
     ]
    }
   ],
   "source": [
    "# Note, this will not work if any of the api calls time out\n",
    "score_accum = 0\n",
    "for i, pair in enumerate(msg_ideal_pairs_set):\n",
    "    print(f\"example {i}\")\n",
    "    \n",
    "    customer_msg = pair['customer_msg']\n",
    "    ideal = pair['ideal_answer']\n",
    "    \n",
    "    # print(\"Customer message\",customer_msg)\n",
    "    # print(\"ideal:\",ideal)\n",
    "    response = find_category_and_product_v2(customer_msg,\n",
    "                                                      products_and_category)\n",
    "    \n",
    "    \n",
    "    # print(\"products_by_category\",products_by_category)\n",
    "    score = eval_response_with_ideal(response,ideal,debug=False)\n",
    "    print(f\"{i}: {score}\")\n",
    "    score_accum += score\n",
    "    \n",
    "\n",
    "n_examples = len(msg_ideal_pairs_set)\n",
    "fraction_correct = score_accum / n_examples\n",
    "print(f\"Fraction correct out of {n_examples}: {fraction_correct}\")"
   ]
  },
  {
   "cell_type": "code",
   "execution_count": null,
   "id": "874dec8a-bbfb-4967-a42e-271b61b3b53e",
   "metadata": {},
   "outputs": [],
   "source": []
  },
  {
   "cell_type": "markdown",
   "id": "4ec73804-9db3-4f51-b826-bdd15f5b28c3",
   "metadata": {},
   "source": [
    "##### EXAAMPLE TO UNDERSTAND"
   ]
  },
  {
   "cell_type": "code",
   "execution_count": null,
   "id": "cca9a082-0ea2-4270-a0de-0c37a5370cd1",
   "metadata": {},
   "outputs": [],
   "source": [
    "import json\n",
    "\n",
    "def eval_response_with_ideal(response, ideal):\n",
    "    # Simulate parsing the AI's response\n",
    "    try:\n",
    "        # Replace single quotes with double quotes for valid JSON\n",
    "        json_like_str = response.replace(\"'\", '\"')\n",
    "        l_of_d = json.loads(json_like_str)  # Parse into a list of dictionaries\n",
    "    except json.JSONDecodeError:\n",
    "        print(\"Invalid JSON format in response.\")\n",
    "        return 0  # Return 0 for invalid response format\n",
    "\n",
    "    # Check if both the parsed response and ideal output are empty\n",
    "    if l_of_d == [] and ideal == []:\n",
    "        return 1  # Perfect match: both are empty\n",
    "    \n",
    "    # Check if either the parsed response or ideal output is empty\n",
    "    elif l_of_d == [] or ideal == []:\n",
    "        return 0  # Mismatch: one is empty while the other is not\n",
    "\n",
    "    # Additional evaluation logic can go here...\n",
    "    \n",
    "    return -1  # Placeholder for further evaluation (not implemented)\n",
    "\n",
    "# Example usage:\n",
    "\n",
    "# Case 1: Both responses are empty\n",
    "response_1 = \"[]\"\n",
    "ideal_1 = []\n",
    "result_1 = eval_response_with_ideal(response_1, ideal_1)\n",
    "print(f\"Result for Case 1: {result_1}\")  # Output: 1\n",
    "\n",
    "# Case 2: AI response is empty, but ideal is not\n",
    "response_2 = \"[]\"\n",
    "ideal_2 = {'category': 'Computers', 'products': ['TechPro Ultrabook']}\n",
    "result_2 = eval_response_with_ideal(response_2, ideal_2)\n",
    "print(f\"Result for Case 2: {result_2}\")  # Output: 0\n",
    "\n",
    "# Case 3: Ideal is empty, but AI response is not\n",
    "response_3 = \"[{'category': 'Computers', 'products': ['TechPro Ultrabook']}]\"\n",
    "ideal_3 = []\n",
    "result_3 = eval_response_with_ideal(response_3, ideal_3)\n",
    "print(f\"Result for Case 3: {result_3}\")  # Output: 0\n",
    "\n",
    "# Case 4: Both responses contain data (not handled in this example)\n",
    "response_4 = \"[{'category': 'Computers', 'products': ['TechPro Ultrabook']}]\"\n",
    "ideal_4 = {'Computers': ['TechPro Ultrabook']}\n",
    "result_4 = eval_response_with_ideal(response_4, ideal_4)\n",
    "print(f\"Result for Case 4: {result_4}\")  # Output: -1 (placeholder for further evaluation)"
   ]
  },
  {
   "cell_type": "code",
   "execution_count": null,
   "id": "5b29cb21-0388-40b6-b404-97b6e39cf01f",
   "metadata": {},
   "outputs": [],
   "source": [
    "import json\n",
    "\n",
    "def eval_response_with_ideal(response, ideal):\n",
    "    # Replace single quotes with double quotes for valid JSON\n",
    "    json_like_str = response.replace(\"'\", '\"')\n",
    "\n",
    "    # Parse into a list of dictionaries\n",
    "    try:\n",
    "        l_of_d = json.loads(json_like_str)\n",
    "    except json.JSONDecodeError:\n",
    "        print(\"Invalid JSON format in response.\")\n",
    "        return 0  # Return 0 for invalid response format\n",
    "\n",
    "    # Check if both the parsed response and ideal output are empty\n",
    "    if l_of_d == [] and ideal == []:\n",
    "        return 1  # Perfect match: both are empty\n",
    "    \n",
    "    # Check if either the parsed response or ideal output is empty\n",
    "    elif l_of_d == [] or ideal == []:\n",
    "        return 0  # Mismatch: one is empty while the other is not\n",
    "\n",
    "    correct = 0    \n",
    "\n",
    "    # Further evaluation logic can go here...\n",
    "    \n",
    "    return correct / len(l_of_d) if l_of_d else 0  # Placeholder return value\n",
    "\n",
    "# Example usage:\n",
    "\n",
    "# Case where both response and ideal have data\n",
    "response = \"[{'category': 'Computers and Laptops', 'products': ['TechPro Ultrabook', 'BlueWave Gaming Laptop']}, {'category': 'Gaming Consoles', 'products': ['GameSphere X']}]\"\n",
    "ideal = {\n",
    "    'Computers and Laptops': ['TechPro Ultrabook', 'BlueWave Gaming Laptop', 'PowerLite Convertible'],\n",
    "    'Gaming Consoles': ['GameSphere X']\n",
    "}\n",
    "\n",
    "result = eval_response_with_ideal(response, ideal)\n",
    "print(\"Evaluation Result:\", result)  # Output will depend on further evaluation logic"
   ]
  },
  {
   "cell_type": "markdown",
   "id": "4f0fd2f8-9a26-4fc5-8f21-c33b4221512b",
   "metadata": {},
   "source": [
    "\n",
    "#####  eval_response_with_ideal\n",
    "\n",
    "1.Initializing a counter for correct matches.\n",
    "2.Printing debug information if enabled.\n",
    "3.Iterating through each item in the parsed response.\n",
    "4.Checking for valid categories and products.\n",
    "5.Comparing sets of products from both actual and ideal outputs.\n",
    "6.Calculating and returning an accuracy percentage based on matches."
   ]
  },
  {
   "cell_type": "code",
   "execution_count": 29,
   "id": "b44f4362-36c4-4b99-a6d8-ce30448b3f94",
   "metadata": {},
   "outputs": [
    {
     "name": "stdout",
     "output_type": "stream",
     "text": [
      "response\n",
      "[{'category': 'Computers and Laptops', 'products': ['TechPro Ultrabook', 'BlueWave Gaming Laptop']}]\n",
      "l_of_d is\n",
      "[{'category': 'Computers and Laptops', 'products': ['TechPro Ultrabook', 'BlueWave Gaming Laptop']}]\n",
      "prod_set\n",
      " {'BlueWave Gaming Laptop', 'TechPro Ultrabook'}\n",
      "\n",
      "prod_set_ideal\n",
      " {'BlueWave Gaming Laptop', 'PowerLite Convertible', 'TechPro Ultrabook'}\n",
      "incorrect\n",
      "prod_set: {'BlueWave Gaming Laptop', 'TechPro Ultrabook'}\n",
      "prod_set_ideal: {'BlueWave Gaming Laptop', 'PowerLite Convertible', 'TechPro Ultrabook'}\n",
      "response is a subset of the ideal answer\n",
      "Evaluation Result: 0.0\n"
     ]
    }
   ],
   "source": [
    "# Example AI-generated response (string format)\n",
    "response = \"[{'category': 'Computers and Laptops', 'products': ['TechPro Ultrabook', 'BlueWave Gaming Laptop']}]\"\n",
    "\n",
    "# Example ideal output (dictionary format)\n",
    "ideal = {\n",
    "    'Computers and Laptops': ['TechPro Ultrabook', 'BlueWave Gaming Laptop', 'PowerLite Convertible'],\n",
    "    'Gaming Consoles': ['GameSphere X']\n",
    "}\n",
    "\n",
    "# Call the evaluation function\n",
    "result = eval_response_with_ideal(response, ideal, debug=True)\n",
    "\n",
    "print(\"Evaluation Result:\", result)"
   ]
  },
  {
   "cell_type": "code",
   "execution_count": null,
   "id": "21b10e72-debe-4822-9788-a0518196e2f1",
   "metadata": {},
   "outputs": [],
   "source": [
    "import json\n",
    "\n",
    "def eval_response_with_ideal(response, ideal, debug=False):\n",
    "    # Parse the response string into a list of dictionaries\n",
    "    json_like_str = response.replace(\"'\", '\"')  # Replace single quotes with double quotes for valid JSON\n",
    "    l_of_d = json.loads(json_like_str)  # Parse into a list of dictionaries\n",
    "\n",
    "    correct = 0  # 1. Initializing a counter for correct matches.\n",
    "    \n",
    "    if debug:  # 2. Printing debug information if enabled.\n",
    "        print(\"l_of_d is\")\n",
    "        print(l_of_d)\n",
    "    \n",
    "    for d in l_of_d:  # 3. Iterating through each item in the parsed response.\n",
    "        cat = d.get('category')  # 4. Checking for valid categories and products.\n",
    "        prod_l = d.get('products')\n",
    "        \n",
    "        if cat and prod_l:\n",
    "            # Convert list to set for comparison\n",
    "            prod_set = set(prod_l)\n",
    "            # Get ideal set of products\n",
    "            ideal_cat = ideal.get(cat)\n",
    "            \n",
    "            if ideal_cat:\n",
    "                prod_set_ideal = set(ideal.get(cat))\n",
    "            else:\n",
    "                if debug:\n",
    "                    print(f\"did not find category {cat} in ideal\")\n",
    "                    print(f\"ideal: {ideal}\")\n",
    "                continue\n",
    "            \n",
    "            if debug:  # 5. Comparing sets of products from both actual and ideal outputs.\n",
    "                print(\"prod_set\\n\", prod_set)\n",
    "                print()\n",
    "                print(\"prod_set_ideal\\n\", prod_set_ideal)\n",
    "\n",
    "            if prod_set == prod_set_ideal:\n",
    "                if debug:\n",
    "                    print(\"correct\")\n",
    "                correct += 1\n",
    "            else:\n",
    "                print(\"incorrect\")\n",
    "                print(f\"prod_set: {prod_set}\")\n",
    "                print(f\"prod_set_ideal: {prod_set_ideal}\")\n",
    "                \n",
    "                if prod_set <= prod_set_ideal:\n",
    "                    print(\"response is a subset of the ideal answer\")\n",
    "                elif prod_set >= prod_set_ideal:\n",
    "                    print(\"response is a superset of the ideal answer\")\n",
    "\n",
    "    # Count correct over total number of items in list\n",
    "    pc_correct = correct / len(l_of_d) if l_of_d else 0  # Calculating and returning an accuracy percentage based on matches.\n",
    "    \n",
    "    return pc_correct\n",
    "\n",
    "# Example usage:\n",
    "\n",
    "# Simulated AI-generated response (string format)\n",
    "response = \"[{'category': 'Computers and Laptops', 'products': ['TechPro Ultrabook', 'BlueWave Gaming Laptop']}, {'category': 'Gaming Consoles', \n",
    "'products': ['GameSphere X']}]\"\n",
    "\n",
    "# Example ideal output (dictionary format)\n",
    "ideal = {\n",
    "    'Computers and Laptops': ['TechPro Ultrabook', 'BlueWave Gaming Laptop', 'PowerLite Convertible'],\n",
    "    'Gaming Consoles': ['GameSphere X']\n",
    "}\n",
    "\n",
    "# Call the evaluation function with debug enabled\n",
    "result = eval_response_with_ideal(response, ideal, debug=True)\n",
    "\n",
    "# Print the final evaluation result\n",
    "print(\"Evaluation Result:\", result)"
   ]
  },
  {
   "cell_type": "code",
   "execution_count": null,
   "id": "f2aebdc9-3f51-4181-b850-6e0aaf60b888",
   "metadata": {},
   "outputs": [],
   "source": []
  }
 ],
 "metadata": {
  "kernelspec": {
   "display_name": "Python 3 (ipykernel)",
   "language": "python",
   "name": "python3"
  },
  "language_info": {
   "codemirror_mode": {
    "name": "ipython",
    "version": 3
   },
   "file_extension": ".py",
   "mimetype": "text/x-python",
   "name": "python",
   "nbconvert_exporter": "python",
   "pygments_lexer": "ipython3",
   "version": "3.10.14"
  }
 },
 "nbformat": 4,
 "nbformat_minor": 5
}
