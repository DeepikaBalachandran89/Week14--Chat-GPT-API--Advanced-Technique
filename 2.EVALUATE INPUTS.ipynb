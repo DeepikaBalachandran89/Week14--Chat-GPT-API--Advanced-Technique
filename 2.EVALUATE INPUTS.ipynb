{
 "cells": [
  {
   "cell_type": "code",
   "execution_count": 1,
   "id": "c75b34e5-e7c8-4d46-928b-14ef54384e1f",
   "metadata": {},
   "outputs": [
    {
     "name": "stdout",
     "output_type": "stream",
     "text": [
      "An error occurred: \n",
      "  No API_KEY or ADC found. Please either:\n",
      "    - Set the `GOOGLE_API_KEY` environment variable.\n",
      "    - Manually pass the key with `genai.configure(api_key=my_api_key)`.\n",
      "    - Or set up Application Default Credentials, see https://ai.google.dev/gemini-api/docs/oauth for more information.\n",
      "None\n"
     ]
    }
   ],
   "source": [
    "import google.generativeai as genai\n",
    "\n",
    "def get_completion_from_messages(messages, model=\"gemini-1.5-flash\"):\n",
    "    \n",
    "    try:\n",
    "        # Create an instance of the GenerativeModel\n",
    "        model_instance = genai.GenerativeModel(model_name=model)\n",
    "        \n",
    "        # Generate content using the model with structured input\n",
    "        response = model_instance.generate_content(\n",
    "            contents=[{\n",
    "                \"role\": \"user\",\n",
    "                \"parts\": [{\"text\": msg[\"content\"]} for msg in messages]\n",
    "            }]\n",
    "        )\n",
    "        \n",
    "        # Extract and return the generated content\n",
    "        return response.text  # Adjust based on actual response structure\n",
    "\n",
    "    except Exception as e:\n",
    "        print(f\"An error occurred: {e}\")\n",
    "        return None\n",
    "\n",
    "# Define delimiter and system message\n",
    "delimiter = \"####\" #how data is structured and processed.\n",
    "system_message = f\"\"\"\n",
    "You will be provided with customer service queries. \\\n",
    "The customer service query will be delimited with \\\n",
    "{delimiter} characters.\n",
    "Classify each query into a primary category \\\n",
    "and a secondary category.\n",
    "Provide your output in JSON format with the \\\n",
    "keys: primary and secondary.\n",
    "\n",
    "Primary categories: Billing, Technical Support, \\\n",
    "Account Management, or General Inquiry.\n",
    "\n",
    "Billing secondary categories:\n",
    "Unsubscribe or upgrade\n",
    "Add a payment method\n",
    "Explanation for charge\n",
    "Dispute a charge\n",
    "\n",
    "Technical Support secondary categories:\n",
    "General troubleshooting\n",
    "Device compatibility\n",
    "Software updates\n",
    "\n",
    "Account Management secondary categories:\n",
    "Password reset\n",
    "Update personal information\n",
    "Close account\n",
    "Account security\n",
    "\n",
    "General Inquiry secondary categories:\n",
    "Product information\n",
    "Pricing\n",
    "Feedback\n",
    "Speak to a human\n",
    "\"\"\"\n",
    "\n",
    "# Define user message\n",
    "user_message = f\"\"\"\\\n",
    "I want you to delete my profile and all of my user data\"\"\"\n",
    "\n",
    "# Structure messages for the model input\n",
    "messages = [\n",
    "    {'role': 'system', 'content': system_message},\n",
    "    {'role': 'user', 'content': f\"{delimiter}{user_message}{delimiter}\"},\n",
    "]\n",
    "\n",
    "# Get classification response from the model\n",
    "response_text = get_completion_from_messages(messages)\n",
    "print(response_text)"
   ]
  },
  {
   "cell_type": "code",
   "execution_count": null,
   "id": "2e3ecea3-0045-4187-aac0-d9ce10e7b678",
   "metadata": {},
   "outputs": [],
   "source": [
    "user_message = f\"\"\"\\\n",
    "Tell me more about your flat screen tvs\"\"\"\n",
    "messages =  [\n",
    "{'role':'system',\n",
    " 'content': system_message},\n",
    "{'role':'user',\n",
    " 'content': f\"{delimiter}{user_message}{delimiter}\"},\n",
    "]\n",
    "response = get_completion_from_messages(messages)\n",
    "print(response)"
   ]
  },
  {
   "cell_type": "code",
   "execution_count": null,
   "id": "22d8b4bb-ebce-4cc0-81c5-f6c92b1b7f8d",
   "metadata": {},
   "outputs": [],
   "source": []
  }
 ],
 "metadata": {
  "kernelspec": {
   "display_name": "Python 3 (ipykernel)",
   "language": "python",
   "name": "python3"
  },
  "language_info": {
   "codemirror_mode": {
    "name": "ipython",
    "version": 3
   },
   "file_extension": ".py",
   "mimetype": "text/x-python",
   "name": "python",
   "nbconvert_exporter": "python",
   "pygments_lexer": "ipython3",
   "version": "3.10.14"
  }
 },
 "nbformat": 4,
 "nbformat_minor": 5
}
